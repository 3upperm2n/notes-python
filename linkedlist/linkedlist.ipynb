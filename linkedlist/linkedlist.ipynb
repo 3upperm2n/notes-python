{
 "cells": [
  {
   "cell_type": "markdown",
   "metadata": {},
   "source": [
    "### example 1"
   ]
  },
  {
   "cell_type": "raw",
   "metadata": {},
   "source": [
    "http://stackoverflow.com/questions/12448175/confused-about-str-in-python"
   ]
  },
  {
   "cell_type": "code",
   "execution_count": 1,
   "metadata": {
    "collapsed": false
   },
   "outputs": [
    {
     "name": "stdout",
     "output_type": "stream",
     "text": [
      "jax is a human\n"
     ]
    }
   ],
   "source": [
    "class Pet(object):\n",
    "\n",
    "    def __init__(self, name, species):\n",
    "        self.name = name\n",
    "        self.species = species\n",
    "\n",
    "    def getName(self):\n",
    "        return self.name\n",
    "\n",
    "    def getSpecies(self):\n",
    "        return self.species\n",
    "\n",
    "    def __str__(self):\n",
    "        return \"%s is a %s\" % (self.name, self.species)\n",
    "\n",
    "a = Pet('jax', 'human')\n",
    "print a"
   ]
  },
  {
   "cell_type": "markdown",
   "metadata": {},
   "source": [
    "### example 2"
   ]
  },
  {
   "cell_type": "raw",
   "metadata": {},
   "source": [
    "http://stackoverflow.com/questions/7152312/python-str-for-an-object"
   ]
  },
  {
   "cell_type": "code",
   "execution_count": 2,
   "metadata": {
    "collapsed": false
   },
   "outputs": [
    {
     "name": "stdout",
     "output_type": "stream",
     "text": [
      "Albert Speer is 106 and dead. Susan Boyle is 50 and alive.\n",
      "Susan Boyle is 50 and alive. Albert Speer is 106 and dead.\n"
     ]
    }
   ],
   "source": [
    "from itertools import chain\n",
    "\n",
    "class PrintableList(list): # for a list of dicts\n",
    "    def __str__(self):\n",
    "        return '. '.join(' '.join(str(x) for x in\n",
    "            chain.from_iterable(zip((item[0], 'is', 'and'), item[1])))\n",
    "                for item in (item.items()[0] for item in self)) + '.'\n",
    "\n",
    "class PrintableDict(dict): # for a dict\n",
    "    def __str__(self):\n",
    "        return '. '.join(' '.join(str(x) for x in\n",
    "            chain.from_iterable(zip((item[0], 'is', 'and'), item[1])))\n",
    "                for item in self.iteritems()) + '.'\n",
    "\n",
    "class Foo:\n",
    "    def __init__(self):\n",
    "        self.d = PrintableDict({\"Susan\": (\"Boyle\", 50, \"alive\"), \n",
    "                              \"Albert\": (\"Speer\", 106, \"dead\")})\n",
    "\n",
    "class Bar:\n",
    "    def __init__(self):\n",
    "        self.l = PrintableList([{\"Susan\": (\"Boyle\", 50, \"alive\")}, \n",
    "                              {\"Albert\": (\"Speer\", 106, \"dead\")}])\n",
    "\n",
    "foo = Foo()\n",
    "print foo.d\n",
    "bar = Bar()\n",
    "print bar.l"
   ]
  },
  {
   "cell_type": "markdown",
   "metadata": {},
   "source": [
    "### example 3"
   ]
  },
  {
   "cell_type": "code",
   "execution_count": 3,
   "metadata": {
    "collapsed": true
   },
   "outputs": [],
   "source": [
    "class Node :\n",
    "    def __init__( self, name, start = 0 , end = 0) :\n",
    "        self.duration = [start, end]\n",
    "        self.time = end - start\n",
    "        self.name = str(name)\n",
    "        self.next = None\n",
    "        self.prev = None\n",
    "        \n",
    "    def __str__(self):\n",
    "        return self.name + ' : ' + str(self.duration[0]) + ' - ' + str(self.duration[1])"
   ]
  },
  {
   "cell_type": "code",
   "execution_count": 4,
   "metadata": {
    "collapsed": false
   },
   "outputs": [
    {
     "name": "stdout",
     "output_type": "stream",
     "text": [
      "h2d : 1 - 2\n"
     ]
    }
   ],
   "source": [
    "node = Node('h2d',1, 2)\n",
    "print node"
   ]
  },
  {
   "cell_type": "markdown",
   "metadata": {},
   "source": [
    "### example 4"
   ]
  },
  {
   "cell_type": "raw",
   "metadata": {},
   "source": [
    "https://gist.github.com/ptigas/2820165"
   ]
  },
  {
   "cell_type": "code",
   "execution_count": 5,
   "metadata": {
    "collapsed": false
   },
   "outputs": [
    {
     "name": "stdout",
     "output_type": "stream",
     "text": [
      "cba\n",
      "ca\n"
     ]
    }
   ],
   "source": [
    "class Node :\n",
    "    def __init__( self, data ) :\n",
    "        self.data = data\n",
    "        self.next = None\n",
    "        self.prev = None\n",
    "\n",
    "class LinkedList :\n",
    "    def __init__( self ) :\n",
    "        self.head = None\n",
    "\n",
    "    def add( self, data ) :\n",
    "        node = Node( data )\n",
    "        if self.head == None :\n",
    "            self.head = node\n",
    "        else :\n",
    "            node.next = self.head\n",
    "            node.next.prev = node\n",
    "            self.head = node\n",
    "\n",
    "    def search( self, k ) :\n",
    "        p = self.head\n",
    "        if p != None :\n",
    "            while p.next != None :\n",
    "                if ( p.data == k ) :\n",
    "                    return p\n",
    "                p = p.next\n",
    "            if ( p.data == k ) :\n",
    "                return p\n",
    "        return None\n",
    "\n",
    "    def remove( self, p ) :\n",
    "        tmp = p.prev\n",
    "        p.prev.next = p.next\n",
    "        p.prev = tmp\n",
    "\n",
    "    def __str__( self ) :\n",
    "        s = \"\"\n",
    "        p = self.head\n",
    "        if p != None :\n",
    "            while p.next != None :\n",
    "                s += p.data\n",
    "                p = p.next\n",
    "            s += p.data\n",
    "        return s\n",
    "\n",
    "# example code\n",
    "l = LinkedList() # head None\n",
    "\n",
    "l.add( 'a' ) # self.head is 'a' , next = prev = None\n",
    "l.add( 'b' ) # b -> a , self.head is 'b'\n",
    "l.add( 'c' )\n",
    "\n",
    "print l\n",
    "l.remove( l.search( 'b' ) )\n",
    "print l"
   ]
  },
  {
   "cell_type": "code",
   "execution_count": 6,
   "metadata": {
    "collapsed": false
   },
   "outputs": [
    {
     "name": "stdout",
     "output_type": "stream",
     "text": [
      "a\n",
      "b\n",
      "c\n"
     ]
    }
   ],
   "source": [
    "class Node :\n",
    "    def __init__( self, data ) :\n",
    "        self.data = data\n",
    "        self.next = None\n",
    "        self.prev = None\n",
    "\n",
    "class LinkedList :\n",
    "    def __init__( self ) :\n",
    "        self.head = None\n",
    "\n",
    "    def add( self, data ) :\n",
    "        node = Node( data )\n",
    "        if self.head == None :\n",
    "            self.head = node\n",
    "        else :\n",
    "            node.prev = self.head\n",
    "            node.prev.next = node\n",
    "            self.head = node\n",
    "            #node.next = self.head\n",
    "            #node.next.prev = node\n",
    "            #self.head = node\n",
    "    \n",
    "    def __str__( self ) :\n",
    "        s = \"\"\n",
    "        p = self.head\n",
    "        if p != None :\n",
    "            while p.prev != None : # trace back\n",
    "                s += p.data\n",
    "                p = p.prev\n",
    "            s += p.data\n",
    "        return s\n",
    "\n",
    "# example code\n",
    "l = LinkedList() # head None\n",
    "\n",
    "l.add( 'a' ) # self.head is 'a' , next = prev = None\n",
    "l.add( 'b' ) # b -> a , self.head is 'b'\n",
    "l.add( 'c' )\n",
    "\n",
    "# recursion\n",
    "def printlog(node):\n",
    "    if node == None: return\n",
    "    printlog(node.prev)\n",
    "    print node.data\n",
    "        \n",
    "\n",
    "printlog(l.head)"
   ]
  },
  {
   "cell_type": "markdown",
   "metadata": {},
   "source": [
    "### example 5"
   ]
  },
  {
   "cell_type": "raw",
   "metadata": {},
   "source": [
    "http://www.openbookproject.net/thinkcs/python/english2e/ch18.html\n",
    "https://www.codefellows.org/blog/implementing-a-singly-linked-list-in-python/\n",
    "http://interactivepython.org/runestone/static/pythonds/BasicDS/ImplementinganUnorderedListLinkedLists.html"
   ]
  },
  {
   "cell_type": "markdown",
   "metadata": {},
   "source": [
    "### example 6"
   ]
  },
  {
   "cell_type": "raw",
   "metadata": {},
   "source": [
    "http://greenteapress.com/thinkpython/html/chap17.html"
   ]
  },
  {
   "cell_type": "code",
   "execution_count": 7,
   "metadata": {
    "collapsed": true
   },
   "outputs": [],
   "source": [
    "class Node: \n",
    "    def __init__(self, cargo=None, next=None): \n",
    "        self.cargo = cargo \n",
    "        self.next  = next \n",
    "\n",
    "    def __str__(self): \n",
    "        return str(self.cargo) "
   ]
  },
  {
   "cell_type": "code",
   "execution_count": 8,
   "metadata": {
    "collapsed": true
   },
   "outputs": [],
   "source": [
    "node1 = Node(1)\n",
    "node2 = Node(2)\n",
    "node3 = Node(3)\n",
    "\n",
    "node1.next = node2\n",
    "node2.next = node3"
   ]
  },
  {
   "cell_type": "code",
   "execution_count": 9,
   "metadata": {
    "collapsed": true
   },
   "outputs": [],
   "source": [
    "def printList(node): \n",
    "    while node: \n",
    "        print node\n",
    "        node = node.next \n",
    "    print "
   ]
  },
  {
   "cell_type": "code",
   "execution_count": 10,
   "metadata": {
    "collapsed": false
   },
   "outputs": [
    {
     "name": "stdout",
     "output_type": "stream",
     "text": [
      "1\n",
      "2\n",
      "3\n",
      "\n"
     ]
    }
   ],
   "source": [
    "printList(node1)"
   ]
  },
  {
   "cell_type": "code",
   "execution_count": 11,
   "metadata": {
    "collapsed": true
   },
   "outputs": [],
   "source": [
    "def printBackward(list): \n",
    "    if list == None: return \n",
    "    head = list \n",
    "    tail = list.next \n",
    "    printBackward(tail) \n",
    "    print head, "
   ]
  },
  {
   "cell_type": "code",
   "execution_count": 12,
   "metadata": {
    "collapsed": false
   },
   "outputs": [
    {
     "name": "stdout",
     "output_type": "stream",
     "text": [
      "3 2 1\n"
     ]
    }
   ],
   "source": [
    "printBackward(node1)"
   ]
  }
 ],
 "metadata": {
  "kernelspec": {
   "display_name": "Python [conda root]",
   "language": "python",
   "name": "conda-root-py"
  },
  "language_info": {
   "codemirror_mode": {
    "name": "ipython",
    "version": 2
   },
   "file_extension": ".py",
   "mimetype": "text/x-python",
   "name": "python",
   "nbconvert_exporter": "python",
   "pygments_lexer": "ipython2",
   "version": "2.7.13"
  }
 },
 "nbformat": 4,
 "nbformat_minor": 2
}
